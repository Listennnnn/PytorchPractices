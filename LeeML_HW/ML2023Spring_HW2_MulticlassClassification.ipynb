{
 "cells": [
  {
   "cell_type": "markdown",
   "metadata": {
    "id": "OYlaRwNu7ojq"
   },
   "source": [
    "# **Homework 2: Phoneme Classification**\n"
   ]
  },
  {
   "cell_type": "markdown",
   "source": [
    "Objectives:\n",
    "* Solve a classification problem with deep neural networks (DNNs).\n",
    "* Understand recursive neural networks (RNNs).\n",
    "\n",
    "If you have any questions, please contact the TAs via TA hours, NTU COOL, or email to mlta-2023-spring@googlegroups.com"
   ],
   "metadata": {
    "id": "A7DRC5V7_8A5"
   }
  },
  {
   "cell_type": "markdown",
   "metadata": {
    "id": "KVUGfWTo7_Oj"
   },
   "source": [
    "# Download Data\n",
    "Download data from google drive, then unzip it.\n",
    "\n",
    "You should have\n",
    "- `libriphone/train_split.txt`: training metadata\n",
    "- `libriphone/train_labels`: training labels\n",
    "- `libriphone/test_split.txt`: testing metadata\n",
    "- `libriphone/feat/train/*.pt`: training feature\n",
    "- `libriphone/feat/test/*.pt`:  testing feature\n",
    "\n",
    "after running the following block.\n",
    "\n",
    "> **Notes: if the google drive link is dead, you can download the data directly from [Kaggle](https://www.kaggle.com/c/ml2023spring-hw2/data) and upload it to the workspace.**\n"
   ]
  },
  {
   "cell_type": "code",
   "execution_count": null,
   "metadata": {
    "id": "OzkiMEcC3Foq",
    "colab": {
     "base_uri": "https://localhost:8080/"
    },
    "outputId": "5decd2e3-332c-4cba-b9a6-0f316b29ca01"
   },
   "source": [
    "!pip install --upgrade gdown\n",
    "\n",
    "# Main link\n",
    "# !gdown --id '1N1eVIDe9hKM5uiNRGmifBlwSDGiVXPJe' --output libriphone.zip\n",
    "!gdown --id '1qzCRnywKh30mTbWUEjXuNT2isOCAPdO1' --output libriphone.zip\n",
    "\n",
    "!unzip -q libriphone.zip\n",
    "!ls libriphone"
   ],
   "outputs": []
  },
  {
   "cell_type": "markdown",
   "source": [
    "# Some Utility Functions\n",
    "**Fixes random number generator seeds for reproducibility.**"
   ],
   "metadata": {
    "id": "pADUiYODJE1O"
   }
  },
  {
   "cell_type": "code",
   "source": [
    "# 导入必要的库\n",
    "import numpy as np  # 引入numpy库，用于高级数学计算和数据处理\n",
    "import torch       # 引入PyTorch库，一个强大的深度学习框架\n",
    "import random     # 引入random库，用于生成随机数\n",
    "\n",
    "# 定义一个函数same_seeds，目的是设置所有可能的随机种子以确保实验的可复现性\n",
    "def same_seeds(seed):\n",
    "    # 使用random.seed设置Python内置随机模块的种子，确保每次运行时生成的随机序列相同\n",
    "    random.seed(seed)\n",
    "\n",
    "    # 使用np.random.seed设置numpy的随机种子，对于numpy相关的随机操作，这能保证结果的确定性\n",
    "    np.random.seed(seed)\n",
    "\n",
    "    # 使用torch.manual_seed设置PyTorch的CPU随机种子，这对于基于CPU的张量操作和模型权重初始化等是必要的\n",
    "    torch.manual_seed(seed)\n",
    "\n",
    "    # 检查是否支持CUDA（GPU加速）\n",
    "    if torch.cuda.is_available():\n",
    "        # 如果支持CUDA，设置当前GPU的随机种子，确保GPU上的操作也是确定性的\n",
    "        torch.cuda.manual_seed(seed)\n",
    "\n",
    "        # 为所有GPU设置随机种子，这对于多GPU训练非常重要，确保每个GPU上的操作具有相同的随机性\n",
    "        torch.cuda.manual_seed_all(seed)\n",
    "\n",
    "    # 设置cudnn（一个在CUDA上的深度学习加速库）的行为，使其不使用benchmark模式\n",
    "    # benchmark模式会自动寻找最适合当前硬件配置的最佳卷积算法，关闭它是为了结果的可复现性\n",
    "    torch.backends.cudnn.benchmark = False\n",
    "\n",
    "    # 设置cudnn为确定性模式，这意味着在多次执行时，给定相同的输入，将得到完全相同的输出\n",
    "    # 这对于科研和调试非常重要，因为它确保了实验结果是可以复现的\n",
    "    torch.backends.cudnn.deterministic = True"
   ],
   "metadata": {
    "id": "BsZKgBZQJjaE"
   },
   "execution_count": null,
   "outputs": []
  },
  {
   "cell_type": "markdown",
   "metadata": {
    "id": "_L_4anls8Drv"
   },
   "source": [
    "**Helper functions to pre-process the training data from raw MFCC features of each utterance.**\n",
    "\n",
    "A phoneme may span several frames and is dependent to past and future frames. \\\n",
    "Hence we concatenate neighboring phonemes for training to achieve higher accuracy. The **concat_feat** function concatenates past and future k frames (total 2k+1 = n frames), and we predict the center frame.\n",
    "\n",
    "Feel free to modify the data preprocess functions, but **do not drop any frame** (if you modify the functions, remember to check that the number of frames are the same as mentioned in the slides)\n",
    "\n",
    "用于从每个话语的原始MFCC特征中预处理训练数据的辅助函数：\n",
    "一个音素可能跨越多个帧，并且依赖于其前后的帧。因此，为了提高准确性，我们在训练时会连接相邻的音素。concat_feat函数负责拼接过去的k帧和未来的k帧（共计2k+1=n帧），而我们的目标是预测中间的那一帧。\n",
    "您可以随意修改数据预处理函数，但务必不要遗漏任何帧（如果您对函数进行了修改，请确保检查帧的数量是否与讲义中提到的数量一致）。\n",
    "\n",
    "MFCC是Mel Frequency Cepstral Coefficients（梅尔频率倒谱系数）的缩写，是一种在语音处理、音频识别和自然语言处理等领域广泛应用的特征提取技术。它基于人耳的听觉感知特性设计，能够有效地捕捉和表示语音信号中的重要信息。\n"
   ]
  },
  {
   "cell_type": "code",
   "execution_count": null,
   "metadata": {
    "id": "IJjLT8em-y9G"
   },
   "source": [
    "import os\n",
    "import torch\n",
    "from tqdm import tqdm\n",
    "\n",
    "def load_feat(path):\n",
    "    # 这个函数用于从指定路径加载已经预处理过的特征数据\n",
    "    # torch.load()可以加载之前使用torch.save()保存的张量、模型等对象\n",
    "    feat = torch.load(path)\n",
    "    return feat  # 返回加载的特征数据\n",
    "\n",
    "def shift(x, n):\n",
    "    # 此函数对输入的张量x进行平移操作，n决定了向左或向右平移的帧数\n",
    "    if n < 0:  # 如果n为负，表示向左平移\n",
    "        left = x[0].repeat(-n, 1)  # 复制第一帧，重复-n次，作为左侧填充\n",
    "        right = x[:n]              # 取x的前n帧作为右侧部分\n",
    "    elif n > 0:  # 如果n为正，表示向右平移\n",
    "        right = x[-1].repeat(n, 1) # 复制最后一帧，重复n次，作为右侧填充\n",
    "        left = x[n:]               # 取x从第n帧开始的所有帧作为左侧部分\n",
    "    else:  # 如果n为0，不需要平移，直接返回原张量\n",
    "        return x\n",
    "\n",
    "    # 使用torch.cat将左侧和右侧的部分在第0维度（行）拼接起来\n",
    "    return torch.cat((left, right), dim=0)\n",
    "\n",
    "def concat_feat(x, concat_n):\n",
    "    # 确保concat_n是奇数，因为我们要确保有一个明确的中心帧\n",
    "    assert concat_n % 2 == 1, \"concat_n必须是奇数\"\n",
    "\n",
    "    # 如果concat_n小于2，没有拼接的意义，直接返回原数据\n",
    "    if concat_n < 2:\n",
    "        return x\n",
    "\n",
    "    # 获取x的序列长度和特征维度\n",
    "    seq_len, feature_dim = x.size(0), x.size(1)\n",
    "\n",
    "    # 将x沿着特征维度重复concat_n次，以准备拼接\n",
    "    x = x.repeat(1, concat_n)\n",
    "\n",
    "    # 调整形状为[seq_len, concat_n, feature_dim]，然后转置为[concat_n, seq_len, feature_dim]\n",
    "    # 这样做是为了便于按中心帧进行拼接\n",
    "    x = x.view(seq_len, concat_n, feature_dim).permute(1, 0, 2)\n",
    "\n",
    "    # 计算中间帧索引\n",
    "    mid = concat_n // 2\n",
    "\n",
    "    # 对每一个远离中心的帧，应用shift函数进行平移\n",
    "    for r_idx in range(1, mid+1):  # 从1到mid（包含）\n",
    "        x[mid + r_idx, :] = shift(x[mid + r_idx], r_idx)  # 向右平移\n",
    "        x[mid - r_idx, :] = shift(x[mid - r_idx], -r_idx)  # 向左平移\n",
    "\n",
    "    # 最后，将张量的形状调整回[seq_len, concat_n*feature_dim]，完成特征拼接\n",
    "    return x.permute(1, 0, 2).view(seq_len, concat_n * feature_dim)\n",
    "\n",
    "def preprocess_data(split, feat_dir, phone_path, concat_nframes, train_ratio=0.8, random_seed=1213):\n",
    "    \"\"\"\n",
    "    预处理数据函数，用于根据数据集划分（训练、验证或测试）加载特征和标签，同时进行数据拼接处理。\n",
    "\n",
    "    参数:\n",
    "    - split: 字符串，表示数据集的划分，可以是'train', 'val', 或 'test'。\n",
    "    - feat_dir: 字符串，特征文件所在的目录路径。\n",
    "    - phone_path: 字符串，包含数据标签和分割信息的目录路径。\n",
    "    - concat_nframes: 整数，表示拼接前后多少帧来创建新的特征向量。\n",
    "    - train_ratio: 浮点数，默认0.8，训练集与验证集划分的比例。\n",
    "    - random_seed: 整数，默认1213，用于随机数生成器的种子值，确保实验可复现。\n",
    "\n",
    "    返回:\n",
    "    - X: 张量，包含预处理后的特征数据。\n",
    "    - y: 张量（仅训练模式下），包含对应的标签数据。\n",
    "    \"\"\"\n",
    "    # 预定义的类别数，通常根据数据集而定，此处为41类\n",
    "    class_num = 41\n",
    "\n",
    "    # 根据split参数决定数据处理模式\n",
    "    mode = 'train' if split in ['train', 'val'] else 'test'\n",
    "    if mode not in ['train', 'val', 'test']:\n",
    "        raise ValueError('无效的\\'split\\'参数值，应为\\'train\\'、\\'val\\'或\\'test\\'。')\n",
    "\n",
    "    # 初始化标签字典，用于训练模式下加载标签\n",
    "    label_dict = {} if mode == 'train' else None\n",
    "\n",
    "    # 训练模式下加载标签\n",
    "    if mode == 'train':\n",
    "        with open(os.path.join(phone_path, f'{mode}_labels.txt'), 'r') as f:\n",
    "            for line in f:\n",
    "                line_parts = line.strip().split(' ')\n",
    "                label_dict[line_parts[0]] = [int(p) for p in line_parts[1:]]\n",
    "\n",
    "        # 读取训练集分割文件并随机打乱\n",
    "        with open(os.path.join(phone_path, 'train_split.txt'), 'r') as f:\n",
    "            usage_list = f.readlines()\n",
    "        random.seed(random_seed)\n",
    "        random.shuffle(usage_list)\n",
    "        train_len = int(len(usage_list) * train_ratio)\n",
    "        # 根据split参数选择训练集或验证集\n",
    "        usage_list = usage_list[:train_len] if split == 'train' else usage_list[train_len:]\n",
    "    elif mode == 'test':\n",
    "        # 测试集直接读取分割文件\n",
    "        with open(os.path.join(phone_path, 'test_split.txt'), 'r') as f:\n",
    "            usage_list = f.readlines()\n",
    "\n",
    "    # 清理文件名列表，去除换行符\n",
    "    usage_list = [line.strip('\\n') for line in usage_list]\n",
    "    # 打印数据集信息\n",
    "    print(f'[Dataset] - 音素类别数: {class_num}, {split}集中的话语数量: {len(usage_list)}')\n",
    "\n",
    "    # 初始化特征矩阵X和标签矩阵y（仅训练模式）\n",
    "    max_len = 3000000  # 预设的最大序列长度\n",
    "    X = torch.empty(max_len, 39 * concat_nframes)\n",
    "    y = torch.empty(max_len, dtype=torch.long) if mode == 'train' else None\n",
    "\n",
    "    # 遍历数据集文件名，加载特征，进行拼接，并存入X中；若为训练模式，则同时处理标签\n",
    "    idx = 0  # 当前已处理的样本数量\n",
    "    for i, fname in tqdm(enumerate(usage_list), desc=f\"Processing {split} data\"):  # 添加进度条提示\n",
    "        feat = load_feat(os.path.join(feat_dir, mode, f'{fname}.pt'))\n",
    "        cur_len = len(feat)\n",
    "        feat = concat_feat(feat, concat_nframes)  # 对特征进行拼接处理\n",
    "        if mode == 'train':\n",
    "            label = torch.LongTensor(label_dict[fname])  # 加载对应标签\n",
    "\n",
    "        # 将当前样本的特征和标签添加到矩阵X和y中\n",
    "        X[idx: idx + cur_len, :] = feat\n",
    "        if mode == 'train':\n",
    "            y[idx: idx + cur_len] = label\n",
    "\n",
    "        idx += cur_len  # 更新已处理样本计数\n",
    "\n",
    "    # 调整X的大小，去除未使用的部分\n",
    "    X = X[:idx, :]\n",
    "    if mode == 'train':\n",
    "        y = y[:idx]  # 调整y的大小，去除未使用的部分\n",
    "\n",
    "    # 打印处理完毕后的数据集信息\n",
    "    print(f'[INFO] {split}集处理完成')\n",
    "    print(X.shape)\n",
    "    if mode == 'train':\n",
    "        print(y.shape)\n",
    "        return X, y  # 返回特征和标签\n",
    "    else:\n",
    "        return X  # 测试集只返回特征\n"
   ],
   "outputs": []
  },
  {
   "cell_type": "markdown",
   "metadata": {
    "id": "us5XW_x6udZQ"
   },
   "source": [
    "# Dataset"
   ]
  },
  {
   "cell_type": "code",
   "execution_count": null,
   "metadata": {
    "id": "Fjf5EcmJtf4e"
   },
   "source": [
    "import torch\n",
    "from torch.utils.data import Dataset\n",
    "\n",
    "# 定义一个名为LibriDataset的类，继承自torch的Dataset类，用于自定义数据集处理\n",
    "class LibriDataset(Dataset):\n",
    "    # 初始化方法，用于数据集的设置\n",
    "    def __init__(self, X, y=None):\n",
    "        # X代表数据集的特征部分，将其赋值给实例变量self.data\n",
    "        self.data = X\n",
    "        # 判断是否有标签数据y\n",
    "        if y is not None:\n",
    "            # 若y存在，则将其转换为torch的LongTensor类型，并赋值给实例变量self.label，用于存储标签数据\n",
    "            self.label = torch.LongTensor(y)\n",
    "        else:\n",
    "            # 若y不存在，则将self.label设为None，表示这是一个无标签数据集\n",
    "            self.label = None\n",
    "\n",
    "    # __getitem__方法定义了如何获取数据集中的某个元素，idx为索引\n",
    "    def __getitem__(self, idx):\n",
    "        # 判断数据集是否有标签\n",
    "        if self.label is not None:\n",
    "            # 如果有标签，则返回当前索引idx指向的数据样本及其对应的标签\n",
    "            return self.data[idx], self.label[idx]\n",
    "        else:\n",
    "            # 如果没有标签，则只返回数据样本\n",
    "            return self.data[idx]\n",
    "\n",
    "    # __len__方法定义了数据集的长度，即数据样本的数量\n",
    "    def __len__(self):\n",
    "        # 直接返回数据样本列表（self.data）的长度\n",
    "        return len(self.data)\n"
   ],
   "outputs": []
  },
  {
   "cell_type": "markdown",
   "metadata": {
    "id": "IRqKNvNZwe3V"
   },
   "source": [
    "# Model\n",
    "Feel free to modify the structure of the model."
   ]
  },
  {
   "cell_type": "code",
   "execution_count": null,
   "metadata": {
    "id": "Bg-GRd7ywdrL"
   },
   "source": [
    "import torch.nn as nn\n",
    "\n",
    "# 定义一个基础模块类，这是神经网络的基本构建单元\n",
    "class BasicBlock(nn.Module):\n",
    "    def __init__(self, input_dim, output_dim):\n",
    "        # 继承自nn.Module类，初始化父类\n",
    "        super(BasicBlock, self).__init__()\n",
    "\n",
    "        # 创建一个序列容器Sequential，它会按顺序应用其中的模块\n",
    "        # 当前模块包含一个线性变换层（nn.Linear），用于调整输入到输出的维度\n",
    "        # 紧接着是一个ReLU激活函数，用于增加网络的非线性\n",
    "        # 注意：我们可以添加批量归一化（Batch Normalization）和丢弃层（Dropout）\n",
    "        # 以增强模型的泛化能力和训练稳定性。你可以通过查阅nn.BatchNorm1d和nn.Dropout添加这些层\n",
    "        self.block = nn.Sequential(\n",
    "            nn.Linear(input_dim, output_dim),  # 线性变换层\n",
    "            nn.ReLU(),  # 激活函数，让模型能学习更复杂的模式\n",
    "        )\n",
    "\n",
    "    # 前向传播方法，定义了输入数据x经过本模块后的输出计算过程\n",
    "    def forward(self, x):\n",
    "        # 将输入数据x传递给block中的各个层进行处理\n",
    "        x = self.block(x)\n",
    "        # 返回处理后的结果\n",
    "        return x\n",
    "\n",
    "\n",
    "# 定义一个分类器类，用于构建完整的神经网络模型\n",
    "class Classifier(nn.Module):\n",
    "    def __init__(self, input_dim, output_dim=41, hidden_layers=1, hidden_dim=256):\n",
    "        # 继承自nn.Module类，并初始化父类\n",
    "        super(Classifier, self).__init__()\n",
    "\n",
    "        # 构建神经网络的全连接部分，使用Sequential容器组织各个层\n",
    "        # 首先是一个BasicBlock，用于从输入层转换到隐藏层\n",
    "        # 然后根据hidden_layers的数值，重复添加hidden_dim到hidden_dim的BasicBlock\n",
    "        # 最后，添加一个线性层，将最后一个隐藏层映射到输出层，输出维度为output_dim\n",
    "        self.fc = nn.Sequential(\n",
    "            BasicBlock(input_dim, hidden_dim),  # 第一个基础模块，开始转换输入\n",
    "            *[BasicBlock(hidden_dim, hidden_dim) for _ in range(hidden_layers)],  # 重复的基础模块，构成多层网络\n",
    "            nn.Linear(hidden_dim, output_dim)  # 输出层，决定模型的分类种类数\n",
    "        )\n",
    "\n",
    "    # 前向传播方法，定义模型如何处理输入数据x并产生输出\n",
    "    def forward(self, x):\n",
    "        # 将输入数据x传递给整个神经网络模型（self.fc），得到最终的输出\n",
    "        x = self.fc(x)\n",
    "        # 返回模型的预测输出\n",
    "        return x"
   ],
   "outputs": []
  },
  {
   "cell_type": "markdown",
   "source": [
    "# Hyper-parameters"
   ],
   "metadata": {
    "id": "TlIq8JeqvvHC"
   }
  },
  {
   "cell_type": "code",
   "source": [
    "# 数据参数\n",
    "# 待办事项：为中等基线模型修改 \"concat_nframes\" 的值\n",
    "concat_nframes = 3   # 要拼接的帧数，n 必须为奇数（总帧数为 2k+1 = n）\n",
    "train_ratio = 0.75   # 用于训练的数据比例，剩余部分用于验证\n",
    "\n",
    "# 训练参数\n",
    "seed = 1213          # 随机种子\n",
    "batch_size = 512        # 批大小\n",
    "num_epoch = 10         # 训练轮次的数量\n",
    "learning_rate = 1e-4      # 学习率\n",
    "model_path = './model.ckpt'  # 模型检查点保存的路径\n",
    "\n",
    "# 模型参数\n",
    "# 待办事项：为中等基线模型修改 \"hidden_layers\" 或 \"hidden_dim\" 的值\n",
    "input_dim = 39 * concat_nframes  # 模型的输入维度，不应更改此值\n",
    "hidden_layers = 2          # 隐藏层的数量\n",
    "hidden_dim = 64           # 隐藏层的维度"
   ],
   "metadata": {
    "id": "iIHn79Iav1ri"
   },
   "execution_count": null,
   "outputs": []
  },
  {
   "cell_type": "markdown",
   "source": [
    "# Dataloader"
   ],
   "metadata": {
    "id": "IIUFRgG5yoDn"
   }
  },
  {
   "cell_type": "code",
   "source": [
    "# 导入 DataLoader 类，用于创建数据加载器，帮助我们管理和加载数据\n",
    "from torch.utils.data import DataLoader\n",
    "# 导入垃圾回收模块，用于手动管理内存\n",
    "import gc\n",
    "# 导入PyTorch库中的torch模块，包含基本的Tensor操作和神经网络构建功能\n",
    "import torch\n",
    "\n",
    "# 调用自定义的函数same_seeds来设置随机种子，确保每次运行时随机操作的结果都相同，便于复现实验结果\n",
    "same_seeds(seed)\n",
    "\n",
    "# 检测当前系统是否有GPU可用，如果有，则将计算任务分配给GPU，提高计算速度；否则，使用CPU进行计算\n",
    "device = 'cuda' if torch.cuda.is_available() else 'cpu'\n",
    "# 打印当前使用的计算设备信息\n",
    "print(f'当前使用的设备为: {device}')\n",
    "\n",
    "# 预处理数据，准备训练集\n",
    "# 调用preprocess_data函数处理特征文件，该函数会读取音频特征并根据concat_nframes拼接帧，同时根据train_ratio划分训练集，\n",
    "# 并使用random_seed确保数据划分的一致性\n",
    "train_X, train_y = preprocess_data(split='train', feat_dir='./libriphone/feat', phone_path='./libriphone',\n",
    "                                   concat_nframes=concat_nframes, train_ratio=train_ratio, random_seed=seed)\n",
    "# 同样的预处理步骤应用于验证集数据\n",
    "val_X, val_y = preprocess_data(split='val', feat_dir='./libriphone/feat', phone_path='./libriphone',\n",
    "                               concat_nframes=concat_nframes, train_ratio=train_ratio, random_seed=seed)\n",
    "\n",
    "# 使用处理好的数据创建数据集对象\n",
    "# LibriDataset是一个自定义的数据集类，它继承自torch.utils.data.Dataset，负责组织数据和标签对\n",
    "train_set = LibriDataset(train_X, train_y)\n",
    "val_set = LibriDataset(val_X, val_y)\n",
    "\n",
    "# 清理原始特征变量以释放内存，避免在后续训练过程中占用过多资源\n",
    "# 使用gc.collect()手动触发Python的垃圾回收机制\n",
    "del train_X, train_y, val_X, val_y\n",
    "gc.collect()\n",
    "\n",
    "# 创建数据加载器，这是训练和验证过程中用来迭代数据的关键组件\n",
    "# 训练集的数据加载器使用shuffle=True来打乱数据顺序，有助于模型训练时的泛化能力\n",
    "train_loader = DataLoader(train_set, batch_size=batch_size, shuffle=True)\n",
    "# 验证集的数据加载器则通常不打乱数据顺序，shuffle=False\n",
    "val_loader = DataLoader(val_set, batch_size=batch_size, shuffle=False)"
   ],
   "metadata": {
    "id": "c1zI3v5jyrDn",
    "colab": {
     "base_uri": "https://localhost:8080/"
    },
    "outputId": "41bb56f4-0a36-4dd1-cf08-01daa1e41a32"
   },
   "execution_count": null,
   "outputs": []
  },
  {
   "cell_type": "markdown",
   "source": [
    "# Training"
   ],
   "metadata": {
    "id": "pwWH1KIqzxEr"
   }
  },
  {
   "cell_type": "code",
   "execution_count": null,
   "metadata": {
    "id": "CdMWsBs7zzNs",
    "colab": {
     "base_uri": "https://localhost:8080/"
    },
    "outputId": "52a88dce-fd3c-431f-ba9b-8927991bf36b"
   },
   "source": [
    "# 深度学习模型训练的标准流程，包括模型的训练和验证过程，以及模型性能的监控和最优模型的保存策略\n",
    "\n",
    "# 实例化模型，并将其移动到之前确定的设备（CPU或GPU）\n",
    "model = Classifier(input_dim=input_dim, hidden_layers=hidden_layers, hidden_dim=hidden_dim).to(device)\n",
    "\n",
    "# 定义损失函数为交叉熵损失，适用于多分类问题\n",
    "criterion = nn.CrossEntropyLoss()\n",
    "\n",
    "# 初始化Adam优化器，用于更新模型参数。学习率设置为之前定义的learning_rate\n",
    "optimizer = torch.optim.Adam(model.parameters(), lr=learning_rate)\n",
    "\n",
    "# 初始化最佳验证精度变量，用于跟踪模型的最佳性能\n",
    "best_acc = 0.0\n",
    "\n",
    "# 主训练循环，遍历num_epoch个周期\n",
    "for epoch in range(num_epoch):\n",
    "    # 初始化训练准确率和损失，以及验证准确率和损失\n",
    "    train_acc = 0.0\n",
    "    train_loss = 0.0\n",
    "    val_acc = 0.0\n",
    "    val_loss = 0.0\n",
    "\n",
    "    # 开始训练阶段\n",
    "    model.train()  # 设置模型为训练模式，启用dropout等特性\n",
    "    for batch in tqdm(train_loader):  # 使用tqdm显示进度条，增强用户体验\n",
    "        features, labels = batch  # 从数据加载器中获取特征和标签\n",
    "        features, labels = features.to(device), labels.to(device)  # 移动数据到指定设备\n",
    "\n",
    "        # 梯度清零，防止梯度累加\n",
    "        optimizer.zero_grad()\n",
    "\n",
    "        # 前向传播，得到模型输出\n",
    "        outputs = model(features)\n",
    "\n",
    "        # 计算损失\n",
    "        loss = criterion(outputs, labels)\n",
    "\n",
    "        # 反向传播计算梯度\n",
    "        loss.backward()\n",
    "\n",
    "        # 更新模型参数\n",
    "        optimizer.step()\n",
    "\n",
    "        # 计算训练准确率\n",
    "        _, train_pred = torch.max(outputs, 1)\n",
    "        train_acc += (train_pred.detach() == labels.detach()).sum().item()\n",
    "        train_loss += loss.item()\n",
    "\n",
    "    # 开始验证阶段，模型切换到评估模式，关闭dropout等\n",
    "    model.eval()\n",
    "    with torch.no_grad():  # 不进行梯度计算，节省内存且速度更快\n",
    "        for batch in tqdm(val_loader):\n",
    "            features, labels = batch\n",
    "            features, labels = features.to(device), labels.to(device)\n",
    "            outputs = model(features)\n",
    "\n",
    "            # 计算验证损失\n",
    "            loss = criterion(outputs, labels)\n",
    "\n",
    "            # 计算验证准确率\n",
    "            _, val_pred = torch.max(outputs, 1)\n",
    "            val_acc += (val_pred.cpu() == labels.cpu()).sum().item()\n",
    "            val_loss += loss.item()\n",
    "\n",
    "    # 输出当前轮次的训练和验证指标\n",
    "    avg_train_loss = train_loss / len(train_loader)\n",
    "    avg_val_loss = val_loss / len(val_loader)\n",
    "    train_acc_rate = train_acc / len(train_set)\n",
    "    val_acc_rate = val_acc / len(val_set)\n",
    "    print(f'Epoch [{epoch+1:03d}/{num_epoch:03d}], Train Acc: {train_acc_rate:.5f}, Loss: {avg_train_loss:.5f} | Val Acc: {val_acc_rate:.5f}, Loss: {avg_val_loss:.5f}')\n",
    "\n",
    "    # 如果当前模型在验证集上的表现优于之前记录的最佳模型，则保存当前模型参数\n",
    "    if val_acc_rate > best_acc:\n",
    "        best_acc = val_acc_rate\n",
    "        torch.save(model.state_dict(), model_path)  # state_dict保存模型参数\n",
    "        print(f'Saved best model with accuracy: {best_acc:.5f}')"
   ],
   "outputs": []
  },
  {
   "cell_type": "code",
   "execution_count": null,
   "metadata": {
    "id": "ab33MxosWLmG",
    "colab": {
     "base_uri": "https://localhost:8080/"
    },
    "outputId": "12cc792c-f53f-41ab-a003-353a4df5fe98"
   },
   "source": [
    "# 删除训练集和验证集的数据集对象\n",
    "# 当模型训练完成后，这些数据集不再需要，因此可以释放它们占用的内存\n",
    "del train_set, val_set\n",
    "\n",
    "# 同样删除数据加载器对象，进一步释放内存资源\n",
    "del train_loader, val_loader\n",
    "\n",
    "# 手动触发Python的垃圾回收机制来回收刚刚删除的对象所占用的内存空间\n",
    "# 这对于内存管理尤为重要，尤其是在处理大规模数据集时\n",
    "gc.collect()"
   ],
   "outputs": []
  },
  {
   "cell_type": "markdown",
   "metadata": {
    "id": "1Hi7jTn3PX-m"
   },
   "source": [
    "# Testing\n",
    "Create a testing dataset, and load model from the saved checkpoint."
   ]
  },
  {
   "cell_type": "code",
   "execution_count": null,
   "metadata": {
    "id": "VOG1Ou0PGrhc",
    "colab": {
     "base_uri": "https://localhost:8080/"
    },
    "outputId": "e84c6942-7fc5-4510-ea61-a85e84af6671"
   },
   "source": [
    "# 加载测试数据\n",
    "# 对测试集进行预处理，与之前处理训练集和验证集的步骤相似，但测试集没有对应的标签（设为None）\n",
    "# 因为在测试阶段我们通常只关心模型的预测结果而非训练或调整模型\n",
    "test_X = preprocess_data(split='test', feat_dir='./libriphone/feat', phone_path='./libriphone', concat_nframes=concat_nframes)\n",
    "\n",
    "# 使用处理后的测试特征创建数据集对象\n",
    "# 注意，这里第二个参数传入None，表示测试集中没有对应的标签数据（或在评估时不需要使用）\n",
    "test_set = LibriDataset(test_X, None)\n",
    "\n",
    "# 创建测试数据的 DataLoader，用于在测试模型时批量加载数据\n",
    "# 测试时通常不需打乱数据顺序，因此 shuffle 设为 False\n",
    "test_loader = DataLoader(test_set, batch_size=batch_size, shuffle=False)"
   ],
   "outputs": []
  },
  {
   "cell_type": "code",
   "execution_count": null,
   "metadata": {
    "id": "ay0Fu8Ovkdad",
    "colab": {
     "base_uri": "https://localhost:8080/"
    },
    "outputId": "5b28fac6-3b4e-48e7-885e-9c4c16c4cb88"
   },
   "source": [
    "# 初始化模型\n",
    "# 根据给定的输入维度、隐藏层结构和隐藏层维度创建分类器模型实例\n",
    "# 并将模型转移到预先设定的设备上（如GPU），以利用硬件加速\n",
    "model = Classifier(input_dim=input_dim, hidden_layers=hidden_layers, hidden_dim=hidden_dim).to(device)\n",
    "\n",
    "# 加载已训练好的模型权重\n",
    "# 使用torch.load函数从指定路径加载之前保存的模型状态字典\n",
    "# 这一步骤使得我们可以继续使用之前训练好的模型进行推断或者进一步训练\n",
    "model.load_state_dict(torch.load(model_path))"
   ],
   "outputs": []
  },
  {
   "cell_type": "markdown",
   "metadata": {
    "id": "zp-DV1p4r7Nz"
   },
   "source": [
    "Make prediction."
   ]
  },
  {
   "cell_type": "code",
   "execution_count": null,
   "metadata": {
    "id": "84HU5GGjPqR0",
    "colab": {
     "base_uri": "https://localhost:8080/"
    },
    "outputId": "e6e96bc0-9741-458e-e8ce-b557647ea436"
   },
   "source": [
    "# 初始化预测结果数组，用于存储模型对测试集每个样本的预测类别\n",
    "pred = np.array([], dtype=np.int32)\n",
    "\n",
    "# 将模型设置为评估模式，这会关闭诸如Dropout这样的训练时特有的层，确保预测的一致性和稳定性\n",
    "model.eval()\n",
    "\n",
    "# 使用with语句上下文管理器，确保在预测过程中不进行梯度计算，减少内存消耗并加速预测过程\n",
    "with torch.no_grad():\n",
    "    # 遍历测试数据加载器中的每个批次\n",
    "    for i, batch in enumerate(tqdm(test_loader)):\n",
    "        # 从批次中提取特征，并将它们移动到计算设备上\n",
    "        features = batch\n",
    "        features = features.to(device)\n",
    "\n",
    "        # 对批次数据进行前向传播，得到模型的输出\n",
    "        outputs = model(features)\n",
    "\n",
    "        # 获取每一样本预测概率最高的类别索引\n",
    "        # torch.max返回两个值，第一个是最大值，第二个是最大值的索引（即预测类别）\n",
    "        _, test_pred_batch = torch.max(outputs, 1)\n",
    "\n",
    "        # 将当前批次的预测结果从Tensor转换为NumPy数组，并拼接到总的预测结果数组中\n",
    "        # 这里使用np.concatenate函数沿着指定轴（axis=0，即行方向）拼接数组\n",
    "        pred = np.concatenate((pred, test_pred_batch.cpu().numpy()), axis=0)"
   ],
   "outputs": []
  },
  {
   "cell_type": "markdown",
   "metadata": {
    "id": "wyZqy40Prz0v"
   },
   "source": [
    "Write prediction to a CSV file.\n",
    "\n",
    "After finish running this block, prediction.csv 文件将包含每个测试样本的预测类别，便于后续分析或提交到相应的评测平台"
   ]
  },
  {
   "cell_type": "code",
   "execution_count": null,
   "metadata": {
    "id": "GuljYSPHcZir"
   },
   "source": [
    "# 使用with语句打开一个文件，命名为'prediction.csv'，以写入模式('w')打开\n",
    "# 这样做可以确保文件操作安全，即操作完成后自动关闭文件\n",
    "with open('prediction.csv', 'w') as f:\n",
    "    # 写入CSV文件的头部信息，包括两列：Id和Class\n",
    "    f.write('Id,Class\\n')\n",
    "\n",
    "    # 遍历预测结果列表(pred)的索引i和对应的预测值y\n",
    "    for i, y in enumerate(pred):\n",
    "        # 将每个样本的索引i和其预测类别y格式化写入文件\n",
    "        # 使用逗号分隔Id和Class，每完成一个样本的写入后换行\n",
    "        f.write('{},{}\\n'.format(i, y))"
   ],
   "outputs": []
  }
 ],
 "metadata": {
  "accelerator": "GPU",
  "colab": {
   "provenance": [],
   "gpuType": "T4"
  },
  "kernelspec": {
   "display_name": "Python 3",
   "name": "python3"
  }
 },
 "nbformat": 4,
 "nbformat_minor": 0
}
