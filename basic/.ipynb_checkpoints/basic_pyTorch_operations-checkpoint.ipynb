{
 "cells": [
  {
   "cell_type": "code",
   "id": "initial_id",
   "metadata": {
    "collapsed": true,
    "ExecuteTime": {
     "end_time": "2024-05-20T00:47:48.159085Z",
     "start_time": "2024-05-20T00:47:43.051636Z"
    }
   },
   "source": [
    "import numpy as np\n",
    "import torch"
   ],
   "outputs": [],
   "execution_count": 1
  },
  {
   "metadata": {},
   "cell_type": "markdown",
   "source": "# 张量创建",
   "id": "c713a88f2d09d904"
  },
  {
   "metadata": {},
   "cell_type": "markdown",
   "source": "## 从Python列表或Numpy数组创建张量",
   "id": "26a59b1a94449ae3"
  },
  {
   "metadata": {
    "ExecuteTime": {
     "end_time": "2024-05-19T09:17:27.356949Z",
     "start_time": "2024-05-19T09:17:27.303093Z"
    }
   },
   "cell_type": "code",
   "source": [
    "# 从列表创建张量\n",
    "list_data = [1, 2, 3, 4]\n",
    "tensor_from_list = torch.tensor(list_data)\n",
    "print(tensor_from_list) # tensor([1, 2, 3, 4])"
   ],
   "id": "8343f61aac96e23c",
   "outputs": [
    {
     "name": "stdout",
     "output_type": "stream",
     "text": [
      "tensor([1, 2, 3, 4])\n"
     ]
    }
   ],
   "execution_count": 2
  },
  {
   "metadata": {
    "ExecuteTime": {
     "end_time": "2024-05-19T09:18:32.142539Z",
     "start_time": "2024-05-19T09:18:32.116298Z"
    }
   },
   "cell_type": "code",
   "source": [
    "# 从NumPy数组创建张量\n",
    "np_array = np.array([1, 2, 3])\n",
    "tensor_from_np_tensor = torch.tensor(np_array)\n",
    "print(tensor_from_np_tensor) # tensor([1, 2, 3], dtype=torch.int32)"
   ],
   "id": "52d3a76953dfea1e",
   "outputs": [
    {
     "name": "stdout",
     "output_type": "stream",
     "text": [
      "tensor([1, 2, 3], dtype=torch.int32)\n"
     ]
    }
   ],
   "execution_count": 3
  },
  {
   "metadata": {},
   "cell_type": "markdown",
   "source": "## 使用固定数值创建张量",
   "id": "52085cf970faa09"
  },
  {
   "metadata": {
    "ExecuteTime": {
     "end_time": "2024-05-19T09:21:05.325513Z",
     "start_time": "2024-05-19T09:21:05.252200Z"
    }
   },
   "cell_type": "code",
   "source": [
    "# torch.zeros(shape)和torch.ones(shape)：创建指定形状的全零或全一张量\n",
    "zeros_tensor = torch.zeros(2, 3)\n",
    "print(zeros_tensor)\n",
    "ones_tensor = torch.ones(3, 4)\n",
    "print(ones_tensor)\n",
    "\n",
    "# torch.rand(shape)：创建指定形状的随机浮点数张量（0到1之间）或标准正态分布的张量\n",
    "rand_tensor = torch.rand(2, 3)\n",
    "print(rand_tensor)\n",
    "normal_tensor = torch.randn(3, 4)\n",
    "print(normal_tensor)\n",
    "\n",
    "# torch.arange(start, end=None, step=1, dtype=None, layout=torch.strided, device=None, requires_grad=False)：创建一个等差序列张量，默认step为1\n",
    "arange_tensor = torch.arange(1, 10, 2)\n",
    "print(arange_tensor)"
   ],
   "id": "31e528359a12bd8b",
   "outputs": [
    {
     "name": "stdout",
     "output_type": "stream",
     "text": [
      "tensor([[0., 0., 0.],\n",
      "        [0., 0., 0.]])\n",
      "tensor([[1., 1., 1., 1.],\n",
      "        [1., 1., 1., 1.],\n",
      "        [1., 1., 1., 1.]])\n",
      "tensor([[0.8514, 0.7635, 0.2030],\n",
      "        [0.9711, 0.5798, 0.0627]])\n",
      "tensor([[ 0.5552,  0.4131,  0.0319, -0.9376],\n",
      "        [-1.9354,  1.2004, -0.5206,  1.8800],\n",
      "        [-0.0498,  0.6704,  0.8049,  0.3372]])\n",
      "tensor([1, 3, 5, 7, 9])\n"
     ]
    }
   ],
   "execution_count": 4
  },
  {
   "metadata": {},
   "cell_type": "markdown",
   "source": "# 张量的基本操作",
   "id": "8051eedd4672d756"
  },
  {
   "metadata": {},
   "cell_type": "markdown",
   "source": "## 张量索引和切片",
   "id": "c116ef18f4e0715f"
  },
  {
   "metadata": {
    "ExecuteTime": {
     "end_time": "2024-05-19T09:27:59.695079Z",
     "start_time": "2024-05-19T09:27:59.686104Z"
    }
   },
   "cell_type": "code",
   "source": [
    "# 张量的索引和切片类似于Python列表，可以访问和修改张量的特定元素或子集\n",
    "# 创建一个二维张量\n",
    "tensor = torch.tensor([[1, 2, 3], [4, 5, 6]])\n",
    "\n",
    "# 索引单个元素\n",
    "element = tensor[0, 0]  # 1\n",
    "\n",
    "# 切片\n",
    "slice_1 = tensor[0, :]  # [1, 2, 3]\n",
    "slice_2 = tensor[:, 1]  # [2, 5]\n",
    "\n",
    "# 修改元素\n",
    "tensor[0, 0] = 7 # [[7, 2, 3], [4, 5, 6]]"
   ],
   "id": "a77f3d44574aa61e",
   "outputs": [],
   "execution_count": 14
  },
  {
   "metadata": {},
   "cell_type": "markdown",
   "source": "## 形状操作",
   "id": "ccc484bedbb9ade1"
  },
  {
   "metadata": {
    "ExecuteTime": {
     "end_time": "2024-05-19T09:28:01.400520Z",
     "start_time": "2024-05-19T09:28:01.389524Z"
    }
   },
   "cell_type": "code",
   "source": [
    "# shape属性获取张量的形状\n",
    "shape = tensor.shape  # torch.Size([2, 3])\n",
    "print(shape)"
   ],
   "id": "8683886133d0ba50",
   "outputs": [
    {
     "name": "stdout",
     "output_type": "stream",
     "text": [
      "torch.Size([2, 3])\n"
     ]
    }
   ],
   "execution_count": 15
  },
  {
   "metadata": {
    "ExecuteTime": {
     "end_time": "2024-05-19T09:28:03.697670Z",
     "start_time": "2024-05-19T09:28:03.684649Z"
    }
   },
   "cell_type": "code",
   "source": [
    "# unsqueeze(dim)在指定维度添加一个大小为1的新维度\n",
    "unsqueeze_tensor = tensor.unsqueeze(0) # 添加一个新维度\n",
    "print(unsqueeze_tensor)"
   ],
   "id": "a108492d27c498b8",
   "outputs": [
    {
     "name": "stdout",
     "output_type": "stream",
     "text": [
      "tensor([[[7, 2, 3],\n",
      "         [4, 5, 6]]])\n"
     ]
    }
   ],
   "execution_count": 16
  },
  {
   "metadata": {
    "ExecuteTime": {
     "end_time": "2024-05-19T09:28:06.650710Z",
     "start_time": "2024-05-19T09:28:06.632651Z"
    }
   },
   "cell_type": "code",
   "source": [
    "# transpose(dim0, dim1)交换指定的两个维度\n",
    "transposed_tensor = tensor.transpose(0, 1) # 交换第一和第二维度\n",
    "print(transposed_tensor)\n",
    "# reshape(shape)或view(shape)改变张量的形状\n",
    "reshaped_tensor = tensor.reshape(6)  # 变为形状为[6]的一维张量\n",
    "print(reshaped_tensor)"
   ],
   "id": "cdf490083dde0bc0",
   "outputs": [
    {
     "name": "stdout",
     "output_type": "stream",
     "text": [
      "tensor([[7, 4],\n",
      "        [2, 5],\n",
      "        [3, 6]])\n",
      "tensor([7, 2, 3, 4, 5, 6])\n"
     ]
    }
   ],
   "execution_count": 17
  },
  {
   "metadata": {},
   "cell_type": "markdown",
   "source": "## 数学运算",
   "id": "354047b1b3cb79a1"
  },
  {
   "metadata": {
    "ExecuteTime": {
     "end_time": "2024-05-19T09:32:18.083651Z",
     "start_time": "2024-05-19T09:32:18.067695Z"
    }
   },
   "cell_type": "code",
   "source": [
    "# PyTorch张量支持广泛的数学运算，包括基本的算术运算、元素级运算、矩阵运算等。以tensor = torch.tensor([[1, 2, 3], [4, 5, 6]])为例\n",
    "tensor = torch.tensor([[1, 2, 3], [4, 5, 6]])\n",
    "# 基本运算（适用于标量、一维或多维张量）\n",
    "add_tensor = tensor + 1 # [[2, 3, 4], [5, 6, 7]]\n",
    "sub_tensor = tensor - 1 # [[0, 1, 2], [3, 4, 5]]\n",
    "mul_tensor = tensor * 2 # [[2, 4, 6], [8, 10, 12]]\n",
    "div_tensor = tensor / 2 # [[0.5, 1.0, 1.5], [2.0, 2.5, 3.0]]\n",
    "addition = tensor + tensor # [[2, 4, 6], [8, 10, 12]]。\n",
    "subtraction = tensor - tensor #[[0, 0, 0], [0, 0, 0]]\n",
    "multiplication = tensor * tensor #[[1, 4, 9], [16, 25, 36]]\n",
    "division = tensor / tensor #[[1, 1, 1], [1, 1, 1]]\n"
   ],
   "id": "4802f64a067e16a8",
   "outputs": [],
   "execution_count": 21
  },
  {
   "metadata": {
    "ExecuteTime": {
     "end_time": "2024-05-19T09:31:30.271717Z",
     "start_time": "2024-05-19T09:31:30.257772Z"
    }
   },
   "cell_type": "code",
   "source": [
    "# 元素级运算（*运算符在这种情况下表示逐元素乘法，而不是矩阵乘法）\n",
    "element_wise_mul_tensor = tensor * tensor # [[1, 4, 9], [16, 25, 36]]"
   ],
   "id": "66ac71c1da44fcaa",
   "outputs": [],
   "execution_count": 19
  },
  {
   "metadata": {},
   "cell_type": "code",
   "outputs": [],
   "execution_count": null,
   "source": [
    "# 矩阵运算（使用@运算符或torch.matmul()）\n",
    "matmul_tensor = tensor @ tensor.t() # 或者 torch.matmul(tensor, tensor.t())\n",
    "print(matmul_tensor)"
   ],
   "id": "761c2d6842065052"
  },
  {
   "metadata": {
    "ExecuteTime": {
     "end_time": "2024-05-19T09:37:13.036331Z",
     "start_time": "2024-05-19T09:37:13.018971Z"
    }
   },
   "cell_type": "code",
   "source": [
    "# 广播机制（使得不同形状的张量能够进行运算）\n",
    "\"\"\"\n",
    "  结果是一个2x3的张量，其中每个元素都是tensor对应位置的元素加上1\n",
    "  broadcasted_addition = [[2, 3, 4], [5, 6, 7]]\n",
    "  broadcasted_addition = tensor + torch.tensor([1, 1, 1])\n",
    "\"\"\"\n",
    "broadcasted_addition = tensor + torch.tensor([1, 1, 1])\n",
    "print(broadcasted_addition)"
   ],
   "id": "7d9ff8ea2f1ee95",
   "outputs": [
    {
     "name": "stdout",
     "output_type": "stream",
     "text": [
      "tensor([[2, 3, 4],\n",
      "        [5, 6, 7]])\n"
     ]
    }
   ],
   "execution_count": 27
  },
  {
   "metadata": {
    "ExecuteTime": {
     "end_time": "2024-05-19T09:37:41.519179Z",
     "start_time": "2024-05-19T09:37:41.505396Z"
    }
   },
   "cell_type": "code",
   "source": [
    "# 比较运算（返回布尔张量）\n",
    "# 返回一个2x3的布尔张量，所有元素都为False，因为每个元素都不大于自身。\n",
    "greater_than = tensor > tensor\n",
    "print(greater_than)"
   ],
   "id": "aea6517ba121d54",
   "outputs": [
    {
     "name": "stdout",
     "output_type": "stream",
     "text": [
      "tensor([[False, False, False],\n",
      "        [False, False, False]])\n"
     ]
    }
   ],
   "execution_count": 28
  },
  {
   "metadata": {
    "ExecuteTime": {
     "end_time": "2024-05-19T09:42:19.427373Z",
     "start_time": "2024-05-19T09:42:19.409436Z"
    }
   },
   "cell_type": "code",
   "source": [
    "# 聚合运算（如求和、平均、最大值、最小值等）\n",
    "sum = torch.sum(tensor) # 返回张量所有元素的总和，即1+2+3+4+5+6=21。\n",
    "print(sum)\n",
    "mean = torch.mean(tensor.float())  # 返回张量的平均值，即21/6=3.5\n",
    "print(mean)\n",
    "# 返回最大值张量[4, 5, 6]和最大值的索引[1, 1, 1]，因为第二行的所有元素都是最大值。\n",
    "max_value, max_index = torch.max(tensor, dim=0)  # 按列求最大值和对应索引\n",
    "print(max_value)\n",
    "print(max_index)"
   ],
   "id": "cc74291aa81462b1",
   "outputs": [
    {
     "name": "stdout",
     "output_type": "stream",
     "text": [
      "tensor(21)\n",
      "tensor(3.5000)\n",
      "tensor([4, 5, 6])\n",
      "tensor([1, 1, 1])\n"
     ]
    }
   ],
   "execution_count": 31
  },
  {
   "metadata": {},
   "cell_type": "markdown",
   "source": "# 自动求导",
   "id": "7b05d00a30eea5c4"
  },
  {
   "metadata": {},
   "cell_type": "markdown",
   "source": "## 张量的requires_grad属性",
   "id": "14ee92c282c47ea8"
  },
  {
   "metadata": {},
   "cell_type": "code",
   "outputs": [],
   "execution_count": null,
   "source": "",
   "id": "669503386a52b2bf"
  }
 ],
 "metadata": {
  "kernelspec": {
   "display_name": "Python 3",
   "language": "python",
   "name": "python3"
  },
  "language_info": {
   "codemirror_mode": {
    "name": "ipython",
    "version": 2
   },
   "file_extension": ".py",
   "mimetype": "text/x-python",
   "name": "python",
   "nbconvert_exporter": "python",
   "pygments_lexer": "ipython2",
   "version": "2.7.6"
  }
 },
 "nbformat": 4,
 "nbformat_minor": 5
}
